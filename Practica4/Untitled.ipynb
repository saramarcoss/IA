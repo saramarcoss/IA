{
 "cells": [
  {
   "cell_type": "code",
   "execution_count": 2,
   "id": "b01da650",
   "metadata": {},
   "outputs": [
    {
     "name": "stdout",
     "output_type": "stream",
     "text": [
      "PassengerId      0\n",
      "Survived         0\n",
      "Pclass           0\n",
      "Sex              0\n",
      "Age            177\n",
      "SibSp            0\n",
      "Parch            0\n",
      "Fare             0\n",
      "Embarked         2\n",
      "dtype: int64\n"
     ]
    }
   ],
   "source": [
    "import pandas as pd\n",
    "\n",
    "# Load dataset\n",
    "train = pd.read_csv('train(1).csv')\n",
    "\n",
    "# Remove Cabin, Name and Ticket attributes\n",
    "train = train.drop(['Cabin', 'Name', 'Ticket'], axis=1)\n",
    "\n",
    "# Save cleaned dataset\n",
    "train.to_csv('cleaned_train.csv', index=False)\n",
    "\n",
    "missing_values = train.isnull()\n",
    "\n",
    "# contar valores faltantes por columna\n",
    "print(missing_values.sum())"
   ]
  },
  {
   "cell_type": "code",
   "execution_count": 3,
   "id": "513220e5",
   "metadata": {},
   "outputs": [],
   "source": [
    "# Rellenar valores nulos de Age con la mediana\n",
    "median_age = train['Age'].median()\n",
    "train['Age'].fillna(median_age, inplace=True)\n",
    "\n",
    "# Rellenar valores nulos de Embarked con la moda\n",
    "mode_embarked = train['Embarked'].mode()[0]\n",
    "train['Embarked'].fillna(mode_embarked, inplace=True)\n"
   ]
  },
  {
   "cell_type": "code",
   "execution_count": 4,
   "id": "25ba8f0f",
   "metadata": {},
   "outputs": [
    {
     "name": "stdout",
     "output_type": "stream",
     "text": [
      "PassengerId    0\n",
      "Survived       0\n",
      "Pclass         0\n",
      "Sex            0\n",
      "Age            0\n",
      "SibSp          0\n",
      "Parch          0\n",
      "Fare           0\n",
      "Embarked       0\n",
      "dtype: int64\n"
     ]
    }
   ],
   "source": [
    "missing_values = train.isnull()\n",
    "\n",
    "# contar valores faltantes por columna\n",
    "print(missing_values.sum())"
   ]
  },
  {
   "cell_type": "code",
   "execution_count": 5,
   "id": "b238c83a",
   "metadata": {},
   "outputs": [
    {
     "data": {
      "text/plain": [
       "<AxesSubplot:>"
      ]
     },
     "execution_count": 5,
     "metadata": {},
     "output_type": "execute_result"
    },
    {
     "data": {
      "image/png": "[encoded data removed]",
      "text/plain": [
       "<Figure size 432x288 with 1 Axes>"
      ]
     },
     "metadata": {
      "needs_background": "light"
     },
     "output_type": "display_data"
    }
   ],
   "source": [
    "import numpy as np\n",
    "import matplotlib.pyplot as plt\n",
    "import seaborn as sns\n",
    "\n",
    "sns.boxplot(data=train) #verificar si hay valores atípicos"
   ]
  },
  {
   "cell_type": "code",
   "execution_count": 7,
   "id": "4b55ca4a",
   "metadata": {},
   "outputs": [],
   "source": [
    "from sklearn.preprocessing import LabelEncoder, OneHotEncoder\n",
    "\n",
    "# Codificación de variables categóricas en variables numéricas\n",
    "train['Sex'] = LabelEncoder().fit_transform(train['Sex'])\n",
    "train['Embarked'] = LabelEncoder().fit_transform(train['Embarked'])"
   ]
  },
  {
   "cell_type": "code",
   "execution_count": 8,
   "id": "859ae897",
   "metadata": {},
   "outputs": [],
   "source": [
    "# Simplificación de valores\n",
    "train['SibSp'] = train['SibSp'].replace([1, 2], '1-2')\n",
    "train['SibSp'] = train['SibSp'].replace([3, 4, 5, 8], '3+')\n",
    "\n",
    "train['Parch'] = train['Parch'].replace([1, 2], '1-2')\n",
    "train['Parch'] = train['Parch'].replace([3, 4, 5, 6], '3+')\n"
   ]
  },
  {
   "cell_type": "code",
   "execution_count": 9,
   "id": "4419f61c",
   "metadata": {},
   "outputs": [],
   "source": [
    "train['Age'] = pd.cut(train['Age'], bins=[0, 18, 50, 100], labels=['menores de 18 años', 'entre 18 y 50 años', 'mayores de 50 años'])"
   ]
  },
  {
   "cell_type": "code",
   "execution_count": 11,
   "id": "94bbff36",
   "metadata": {},
   "outputs": [],
   "source": [
    "# Agrupación de valores continuos\n",
    "train['Fare'] = pd.cut(train['Fare'], bins=[0, 30, 150, 1000], labels=['barato', 'caro', 'muy caro'])"
   ]
  },
  {
   "cell_type": "code",
   "execution_count": 19,
   "id": "3e7610ec",
   "metadata": {},
   "outputs": [
    {
     "name": "stdout",
     "output_type": "stream",
     "text": [
      "   PassengerId  Survived  Pclass  Sex                 Age SibSp Parch    Fare  \\\n",
      "0            1         0       3    1  entre 18 y 50 años   1-2     0  barato   \n",
      "1            2         1       1    0  entre 18 y 50 años   1-2     0    caro   \n",
      "2            3         1       3    0  entre 18 y 50 años     0     0  barato   \n",
      "3            4         1       1    0  entre 18 y 50 años   1-2     0    caro   \n",
      "4            5         0       3    1  entre 18 y 50 años     0     0  barato   \n",
      "\n",
      "   Embarked  \n",
      "0         2  \n",
      "1         0  \n",
      "2         2  \n",
      "3         2  \n",
      "4         2  \n"
     ]
    }
   ],
   "source": [
    "print(train.head())"
   ]
  },
  {
   "cell_type": "code",
   "execution_count": 26,
   "id": "2e3b04ef",
   "metadata": {},
   "outputs": [
    {
     "name": "stderr",
     "output_type": "stream",
     "text": [
      "C:\\Users\\saram\\AppData\\Local\\Temp/ipykernel_10836/3088703570.py:9: DeprecationWarning: `np.bool` is a deprecated alias for the builtin `bool`. To silence this warning, use `bool` by itself. Doing this will not modify any behavior and is safe. If you specifically wanted the numpy scalar type, use `np.bool_` here.\n",
      "Deprecated in NumPy 1.20; for more details and guidance: https://numpy.org/devdocs/release/1.20.0-notes.html#deprecations\n",
      "  upper = corr_matrix.where(np.triu(np.ones(corr_matrix.shape), k=1).astype(np.bool))\n"
     ]
    }
   ],
   "source": [
    "import pandas as pd\n",
    "import seaborn as sns\n",
    "\n",
    "\n",
    "# Correlación entre variables\n",
    "corr_matrix = train.corr().abs()\n",
    "\n",
    "# Seleccionar triángulo superior de la matriz de correlación\n",
    "upper = corr_matrix.where(np.triu(np.ones(corr_matrix.shape), k=1).astype(np.bool))\n",
    "\n",
    "# Obtener las variables con una correlación mayor a 0.7\n",
    "to_drop = [column for column in upper.columns if any(upper[column] > 0.7)]\n",
    "\n",
    "# Eliminar las variables de alta correlación\n",
    "titanic_df = train.drop(to_drop, axis=1)\n"
   ]
  },
  {
   "cell_type": "code",
   "execution_count": 29,
   "id": "9a6affc1",
   "metadata": {},
   "outputs": [],
   "source": [
    "from sklearn.ensemble import ExtraTreesClassifier\n",
    "\n",
    "# Eliminar variables no numéricas y la columna 'Survived'\n",
    "train =train.select_dtypes(include=[np.number]).drop(['Survived'], axis=1)\n",
    "\n",
    "# Crear un modelo de ExtraTreesClassifier\n",
    "model = ExtraTreesClassifier()\n",
    "\n",
    "# Entrenar el modelo\n",
    "model.fit(train, train)\n",
    "\n",
    "# Obtener la importancia de cada atributo\n",
    "feature_importances = pd.Series(model.feature_importances_, index=train.columns)\n",
    "\n",
    "# Seleccionar los atributos más importantes\n",
    "selected_features = feature_importances.nlargest(7).index.tolist()\n",
    "\n",
    "# Seleccionar solo los atributos más importantes\n",
    "train = train[selected_features]\n"
   ]
  },
  {
   "cell_type": "code",
   "execution_count": 31,
   "id": "3ad26c7b",
   "metadata": {},
   "outputs": [],
   "source": [
    "from sklearn.decomposition import PCA\n",
    "\n",
    "# Normalizar los datos\n",
    "train = (train - train.mean()) / train.std()\n",
    "\n",
    "# Crear un modelo de PCA\n",
    "pca = PCA(n_components=3)\n",
    "\n",
    "# Proyectar los datos en el nuevo espacio de características\n",
    "titanic_df_pca = pca.fit_transform(train)\n"
   ]
  },
  {
   "cell_type": "code",
   "execution_count": null,
   "id": "5a3a833d",
   "metadata": {},
   "outputs": [],
   "source": []
  }
 ],
 "metadata": {
  "kernelspec": {
   "display_name": "Python 3 (ipykernel)",
   "language": "python",
   "name": "python3"
  },
  "language_info": {
   "codemirror_mode": {
    "name": "ipython",
    "version": 3
   },
   "file_extension": ".py",
   "mimetype": "text/x-python",
   "name": "python",
   "nbconvert_exporter": "python",
   "pygments_lexer": "ipython3",
   "version": "3.9.7"
  }
 },
 "nbformat": 4,
 "nbformat_minor": 5
}
